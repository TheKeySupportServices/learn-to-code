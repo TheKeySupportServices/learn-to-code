{
 "cells": [
  {
   "cell_type": "code",
   "execution_count": 1,
   "source": [
    "print(\"Hello\")"
   ],
   "outputs": [
    {
     "output_type": "stream",
     "name": "stdout",
     "text": [
      "hi\n"
     ]
    }
   ],
   "metadata": {}
  }
 ],
 "metadata": {
  "orig_nbformat": 4,
  "language_info": {
   "name": "python",
   "version": "3.9.1",
   "mimetype": "text/x-python",
   "codemirror_mode": {
    "name": "ipython",
    "version": 3
   },
   "pygments_lexer": "ipython3",
   "nbconvert_exporter": "python",
   "file_extension": ".py"
  },
  "kernelspec": {
   "name": "python3",
   "display_name": "Python 3.9.1 64-bit ('learn-to-code-QVF_mL_p-py3.9')"
  },
  "interpreter": {
   "hash": "6d21322e23f857a6643d8ee4014a46b0b057d71f94dfcaffdcb9cae762c2da82"
  }
 },
 "nbformat": 4,
 "nbformat_minor": 2
}